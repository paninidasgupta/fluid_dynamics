{
 "cells": [
  {
   "cell_type": "code",
   "execution_count": 3,
   "metadata": {},
   "outputs": [
    {
     "name": "stdout",
     "output_type": "stream",
     "text": [
      "Populating the interactive namespace from numpy and matplotlib\n"
     ]
    }
   ],
   "source": [
    "import numpy as np\n",
    "import xarray as xr\n",
    "import matplotlib.pyplot as plt\n",
    "import cartopy.crs as ccrs\n",
    "import cartopy\n",
    "from cartopy.mpl.ticker import LongitudeFormatter, LatitudeFormatter\n",
    "import dynamics_params as dp\n",
    "from scipy import integrate\n",
    "%pylab inline"
   ]
  },
  {
   "cell_type": "code",
   "execution_count": 5,
   "metadata": {},
   "outputs": [
    {
     "name": "stdout",
     "output_type": "stream",
     "text": [
      "CPU times: user 458 µs, sys: 123 µs, total: 581 µs\n",
      "Wall time: 501 µs\n"
     ]
    },
    {
     "data": {
      "text/plain": [
       "array([  9.5,  45.5, 750. ,  75. ])"
      ]
     },
     "execution_count": 5,
     "metadata": {},
     "output_type": "execute_result"
    }
   ],
   "source": [
    "%%time\n",
    "A=np.array([[1,2,5,4],[1,10,20,30],[100,200,300,400],[10,20,30,40]])\n",
    "A.shape,np.gradient(A)[1]\n",
    "np.gradient(A,axis=-1),np,gradient(A)[1]\n",
    "integrate.trapz(A, np.arange(1,5), axis=-1)"
   ]
  },
  {
   "cell_type": "markdown",
   "metadata": {},
   "source": [
    "## read U and V"
   ]
  },
  {
   "cell_type": "code",
   "execution_count": 8,
   "metadata": {},
   "outputs": [
    {
     "name": "stdout",
     "output_type": "stream",
     "text": [
      "(13514, 73, 144)\n",
      "CPU times: user 9.96 s, sys: 6min 59s, total: 7min 9s\n",
      "Wall time: 7min 14s\n"
     ]
    },
    {
     "data": {
      "text/plain": [
       "<matplotlib.colorbar.Colorbar at 0x7f5bd03dc990>"
      ]
     },
     "execution_count": 8,
     "metadata": {},
     "output_type": "execute_result"
    },
    {
     "data": {
      "image/png": "[encoded data removed]",
      "text/plain": [
       "<Figure size 432x288 with 2 Axes>"
      ]
     },
     "metadata": {
      "needs_background": "light"
     },
     "output_type": "display_data"
    }
   ],
   "source": [
    "%%time\n",
    "uname='anomalies/u850.1982-2018.nc'\n",
    "vname='anomalies/v850.1982-2018.nc'\n",
    "sellevel =850\n",
    "A1  = dp.hvorticity_xarray(uname,vname,sellevel=850,uvarname='uwnd',vvarname='vwnd')\n",
    "AA = A1.sel(lat=slice(0,40),lon=slice(60,100),time=\"2014-10-11\") ## cyclone Hudhud\n",
    "ax = plt.axes(projection=ccrs.PlateCarree())\n",
    "a=ax.contourf(AA.lon,AA.lat,AA[\"VOR\"],transform=ccrs.PlateCarree(),cmap=\"bwr\")\n",
    "ax.coastlines()\n",
    "plt.colorbar(a,ax=ax)\n"
   ]
  },
  {
   "cell_type": "code",
   "execution_count": 123,
   "metadata": {},
   "outputs": [],
   "source": [
    "# %%time\n",
    "# uname='anomalies/u.anomalies.nc'\n",
    "# vname='anomalies/v.anomalies.nc'\n",
    "# A = A1.sel(lat=slice(0,40),lon=slice(60,100),time=\"2014-10-11\")\n",
    "# ax = plt.axes(projection=ccrs.PlateCarree())\n",
    "# a=ax.contourf(AA.lon,AA.lat,AA.sel(level=200)[\"VOR\"],transform=ccrs.PlateCarree(),cmap=\"bwr\")\n",
    "# ax.coastlines()\n",
    "# plt.colorbar(a,ax=ax)"
   ]
  }
 ],
 "metadata": {
  "kernelspec": {
   "display_name": "Python 3",
   "language": "python",
   "name": "python3"
  },
  "language_info": {
   "codemirror_mode": {
    "name": "ipython",
    "version": 3
   },
   "file_extension": ".py",
   "mimetype": "text/x-python",
   "name": "python",
   "nbconvert_exporter": "python",
   "pygments_lexer": "ipython3",
   "version": "3.7.7"
  }
 },
 "nbformat": 4,
 "nbformat_minor": 2
}
